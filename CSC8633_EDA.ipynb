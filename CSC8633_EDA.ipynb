{
 "cells": [
  {
   "cell_type": "code",
   "execution_count": 2,
   "id": "86a7d1c7",
   "metadata": {},
   "outputs": [],
   "source": [
    "import pandas as pd\n",
    "import numpy as np\n",
    "import seaborn as sns\n",
    "import matplotlib.pyplot as plt"
   ]
  },
  {
   "cell_type": "code",
   "execution_count": 3,
   "id": "40d72a94",
   "metadata": {},
   "outputs": [],
   "source": [
    "df_assessments = pd.read_csv(\"assessments.csv\")\n",
    "df_courses = pd.read_csv(\"courses.csv\")\n",
    "df_vle = pd.read_csv(\"vle.csv\")\n",
    "df_sa = pd.read_csv(\"studentAssessment.csv\")\n",
    "df_si = pd.read_csv(\"studentInfo.csv\")\n",
    "studentRegistration_df = pd.read_csv(\"studentRegistration.csv\")\n",
    "df_sv = pd.read_csv(\"studentVle.csv\")"
   ]
  },
  {
   "cell_type": "code",
   "execution_count": null,
   "id": "35cb611f",
   "metadata": {},
   "outputs": [],
   "source": []
  }
 ],
 "metadata": {
  "kernelspec": {
   "display_name": "Python 3 (ipykernel)",
   "language": "python",
   "name": "python3"
  },
  "language_info": {
   "codemirror_mode": {
    "name": "ipython",
    "version": 3
   },
   "file_extension": ".py",
   "mimetype": "text/x-python",
   "name": "python",
   "nbconvert_exporter": "python",
   "pygments_lexer": "ipython3",
   "version": "3.9.7"
  }
 },
 "nbformat": 4,
 "nbformat_minor": 5
}
